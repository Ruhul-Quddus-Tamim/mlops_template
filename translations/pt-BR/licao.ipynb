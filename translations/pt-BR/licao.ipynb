{
 "cells": [
  {
   "attachments": {},
   "cell_type": "markdown",
   "metadata": {},
   "source": [
    "# Crie uma aula usando o GitHub Copilot\n",
    "\n",
    "\n",
    "## Etapa 1: ativar o GitHub Copilot\n",
    "\n",
    "\n",
    "## Etapa 2: adicionar novo conteúdo a esta lição\n",
    "\n",
    "\n",
    "## Passo 3: Crie desafios para esta lição\n"
   ]
  },
  {
   "cell_type": "code",
   "execution_count": null,
   "metadata": {},
   "outputs": [],
   "source": [
    "# substitua este comentário por um prompt para o Copilot que comece com \"crie um desafio para um aluno\" para obter sugestões úteis\n"
   ]
  },
  {
   "cell_type": "code",
   "execution_count": null,
   "metadata": {},
   "outputs": [],
   "source": [
    "# substitua este comentário por um prompt para o Copilot que comece com \"crie um desafio para um aluno\" para obter sugestões úteis\n"
   ]
  },
  {
   "attachments": {},
   "cell_type": "markdown",
   "metadata": {},
   "source": [
    "## Quiz: funções Python e argumentos variáveis\n"
   ]
  }
 ],
 "metadata": {
  "kernelspec": {
   "display_name": "Python 3",
   "language": "python",
   "name": "python3"
  },
  "language_info": {
   "name": "python",
   "version": "3.11.1 (main, Dec 23 2022, 09:28:24) [Clang 14.0.0 (clang-1400.0.29.202)]"
  },
  "orig_nbformat": 4,
  "vscode": {
   "interpreter": {
    "hash": "5c7b89af1651d0b8571dde13640ecdccf7d5a6204171d6ab33e7c296e100e08a"
   }
  }
 },
 "nbformat": 4,
 "nbformat_minor": 2
}
